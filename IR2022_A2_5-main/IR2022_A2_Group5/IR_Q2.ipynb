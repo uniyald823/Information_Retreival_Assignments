{
 "cells": [
  {
   "cell_type": "markdown",
   "id": "372fb1fb",
   "metadata": {},
   "source": [
    "### Question 2"
   ]
  },
  {
   "cell_type": "code",
   "execution_count": 1,
   "id": "de10b8c3",
   "metadata": {},
   "outputs": [
    {
     "name": "stdout",
     "output_type": "stream",
     "text": [
      "[0 1 3 2]\n",
      "59\n",
      "26\n",
      "1\n",
      "17\n",
      "The number of maximum DCG ordering possible for qid:4 will be : 19893497375938370599826047614905329896936840170566570588205180312704857992695193482412686565431050240000000000000000000000\n",
      "nDCG at 50: 0.35612494416255847\n",
      "nDCG for whole dataset: 0.5784691984582591\n"
     ]
    },
    {
     "data": {
      "image/png": "[encoded data removed]",
      "text/plain": [
       "<Figure size 432x288 with 1 Axes>"
      ]
     },
     "metadata": {
      "needs_background": "light"
     },
     "output_type": "display_data"
    }
   ],
   "source": [
    "import pandas as pd\n",
    "import numpy as np\n",
    "import math\n",
    "import matplotlib.pyplot as plt\n",
    "\n",
    "path = r'C:/Users/HP/Downloads/IR-assignment-2-data.txt' \n",
    "df = pd.read_csv(path, sep=' ', header=None)\n",
    "file = open(path,encoding=\"unicode_escape\",mode='r')\n",
    "file_data = file.readlines()\n",
    "\n",
    "\n",
    "rslt_df = df[df[1] == \"qid:4\"] \n",
    "print(rslt_df[0].unique())\n",
    "res = 1\n",
    "l = []\n",
    "\n",
    "for val in rslt_df[0].unique():\n",
    "    l.append(len(rslt_df[rslt_df[0]==val]))\n",
    "    print(len(rslt_df[rslt_df[0]==val]))\n",
    "    res = res * math.factorial(len(rslt_df[rslt_df[0]==val]))\n",
    "dfr = rslt_df.sort_values(by = 0, ascending = False )\n",
    "dfr = dfr.reset_index(drop=True)\n",
    "\n",
    "#total files that can be made are 1!17!29!59!\n",
    "\n",
    "dfr.to_csv('maxDCG.csv')\n",
    "\n",
    "print(\"The number of maximum DCG ordering possible for qid:4 will be :\",res)\n",
    "\n",
    "def dcgAtK(df, k):\n",
    "    result = 0;\n",
    "    for i in range(1, k+1):\n",
    "        result = result + (pow(2, df[0][i-1]) - 1)/(np.log2(i+1))\n",
    "    return result\n",
    "\n",
    "\n",
    "k = 50\n",
    "print(\"nDCG at 50:\",dcgAtK(rslt_df,k)/dcgAtK(dfr,k))\n",
    "k = len(rslt_df)\n",
    "print(\"nDCG for whole dataset:\",dcgAtK(rslt_df,k)/dcgAtK(dfr,k))\n",
    "\n",
    "\n",
    "feedback=[]\n",
    "feature_score=[]\n",
    "i=0\n",
    "for line in file_data:\n",
    "    i+=1\n",
    "    if line[line.find(\"qid:\")+4:line.find(\"1:\")-1]==\"4\":\n",
    "        pos=line.find(\"75:\")\n",
    "        pos1=line.find(\"76:\")\n",
    "        \n",
    "        feedback.append(int(line[0]))\n",
    "        \n",
    "        feature_score.append(float(line[pos+3:pos1-1]))\n",
    "        if float(line[pos+3:pos1-1])==0.0:\n",
    "            print(line)\n",
    "            \n",
    "            \n",
    "final = [x for _,x in sorted(zip(feature_score,feedback),reverse=True)]\n",
    "relevence=0\n",
    "for elem in final:\n",
    "    if elem!=0:\n",
    "        relevence+=1\n",
    "precision=[]\n",
    "recall=[]\n",
    "count=0\n",
    "rel=0\n",
    "#print(final)\n",
    "for elem in final:\n",
    "    count+=1\n",
    "    if elem!=0:\n",
    "        rel+=1\n",
    "    precision.append(rel/count)\n",
    "    recall.append(rel/relevence)\n",
    "plt.plot(recall,precision)\n",
    "plt.xlabel(\"Recall\")\n",
    "plt.ylabel(\"Precision\")\n",
    "plt.show()"
   ]
  },
  {
   "cell_type": "code",
   "execution_count": null,
   "id": "5f275a5d",
   "metadata": {},
   "outputs": [],
   "source": []
  }
 ],
 "metadata": {
  "kernelspec": {
   "display_name": "Python 3 (ipykernel)",
   "language": "python",
   "name": "python3"
  },
  "language_info": {
   "codemirror_mode": {
    "name": "ipython",
    "version": 3
   },
   "file_extension": ".py",
   "mimetype": "text/x-python",
   "name": "python",
   "nbconvert_exporter": "python",
   "pygments_lexer": "ipython3",
   "version": "3.9.7"
  }
 },
 "nbformat": 4,
 "nbformat_minor": 5
}

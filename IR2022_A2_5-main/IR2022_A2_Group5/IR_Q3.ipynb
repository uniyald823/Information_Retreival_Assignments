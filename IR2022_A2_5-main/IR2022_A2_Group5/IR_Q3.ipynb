{
 "cells": [
  {
   "cell_type": "markdown",
   "metadata": {
    "id": "KymbOqEWzU25"
   },
   "source": [
    "### Question 3"
   ]
  },
  {
   "cell_type": "code",
   "execution_count": 1,
   "metadata": {
    "id": "8iITVTe5zWRi"
   },
   "outputs": [],
   "source": [
    "import pickle\n",
    "from collections import Counter\n",
    "import numpy as np\n",
    "import seaborn as sns\n",
    "from prettytable import PrettyTable\n",
    "import matplotlib.pyplot as plt\n",
    "import pandas as pd"
   ]
  },
  {
   "cell_type": "code",
   "execution_count": 4,
   "metadata": {
    "id": "C99KExEXzWTo"
   },
   "outputs": [],
   "source": [
    "classes = ['comp.graphics', 'rec.sport.hockey', 'sci.med', 'sci.space', 'talk.politics.misc']\n",
    "with open('C:/Users/HP/Downloads/Doc_pdAssignment2.pickle', 'rb') as f:\n",
    "    data = pickle.load(f)"
   ]
  },
  {
   "cell_type": "code",
   "execution_count": 5,
   "metadata": {
    "colab": {
     "base_uri": "https://localhost:8080/",
     "height": 423
    },
    "id": "U-R-f80CzWVs",
    "outputId": "37be5747-4669-42ee-bee6-a0e17439e6fb"
   },
   "outputs": [
    {
     "data": {
      "text/html": [
       "<div>\n",
       "<style scoped>\n",
       "    .dataframe tbody tr th:only-of-type {\n",
       "        vertical-align: middle;\n",
       "    }\n",
       "\n",
       "    .dataframe tbody tr th {\n",
       "        vertical-align: top;\n",
       "    }\n",
       "\n",
       "    .dataframe thead th {\n",
       "        text-align: right;\n",
       "    }\n",
       "</style>\n",
       "<table border=\"1\" class=\"dataframe\">\n",
       "  <thead>\n",
       "    <tr style=\"text-align: right;\">\n",
       "      <th></th>\n",
       "      <th>0</th>\n",
       "      <th>1</th>\n",
       "    </tr>\n",
       "  </thead>\n",
       "  <tbody>\n",
       "    <tr>\n",
       "      <th>0</th>\n",
       "      <td>[newsgroup, sci, space, path, cantaloup, srv, ...</td>\n",
       "      <td>comp.graphics</td>\n",
       "    </tr>\n",
       "    <tr>\n",
       "      <th>1</th>\n",
       "      <td>[path, cantaloup, srv, cs, cmu, edu, da, news,...</td>\n",
       "      <td>comp.graphics</td>\n",
       "    </tr>\n",
       "    <tr>\n",
       "      <th>2</th>\n",
       "      <td>[xref, cantaloup, srv, cs, cmu, edu, rec, nude...</td>\n",
       "      <td>comp.graphics</td>\n",
       "    </tr>\n",
       "    <tr>\n",
       "      <th>3</th>\n",
       "      <td>[path, cantaloup, srv, cs, cmu, edu, da, news,...</td>\n",
       "      <td>comp.graphics</td>\n",
       "    </tr>\n",
       "    <tr>\n",
       "      <th>4</th>\n",
       "      <td>[xref, cantaloup, srv, cs, cmu, edu, talk, pol...</td>\n",
       "      <td>comp.graphics</td>\n",
       "    </tr>\n",
       "    <tr>\n",
       "      <th>...</th>\n",
       "      <td>...</td>\n",
       "      <td>...</td>\n",
       "    </tr>\n",
       "    <tr>\n",
       "      <th>4995</th>\n",
       "      <td>[path, cantaloup, srv, cs, cmu, edu, rochest, ...</td>\n",
       "      <td>talk.politics.misc</td>\n",
       "    </tr>\n",
       "    <tr>\n",
       "      <th>4996</th>\n",
       "      <td>[xref, cantaloup, srv, cs, cmu, edu, comp, gra...</td>\n",
       "      <td>talk.politics.misc</td>\n",
       "    </tr>\n",
       "    <tr>\n",
       "      <th>4997</th>\n",
       "      <td>[newsgroup, comp, graphic, path, cantaloup, sr...</td>\n",
       "      <td>talk.politics.misc</td>\n",
       "    </tr>\n",
       "    <tr>\n",
       "      <th>4998</th>\n",
       "      <td>[xref, cantaloup, srv, cs, cmu, edu, comp, gra...</td>\n",
       "      <td>talk.politics.misc</td>\n",
       "    </tr>\n",
       "    <tr>\n",
       "      <th>4999</th>\n",
       "      <td>[path, cantaloup, srv, cs, cmu, edu, da, news,...</td>\n",
       "      <td>talk.politics.misc</td>\n",
       "    </tr>\n",
       "  </tbody>\n",
       "</table>\n",
       "<p>5000 rows × 2 columns</p>\n",
       "</div>"
      ],
      "text/plain": [
       "                                                      0                   1\n",
       "0     [newsgroup, sci, space, path, cantaloup, srv, ...       comp.graphics\n",
       "1     [path, cantaloup, srv, cs, cmu, edu, da, news,...       comp.graphics\n",
       "2     [xref, cantaloup, srv, cs, cmu, edu, rec, nude...       comp.graphics\n",
       "3     [path, cantaloup, srv, cs, cmu, edu, da, news,...       comp.graphics\n",
       "4     [xref, cantaloup, srv, cs, cmu, edu, talk, pol...       comp.graphics\n",
       "...                                                 ...                 ...\n",
       "4995  [path, cantaloup, srv, cs, cmu, edu, rochest, ...  talk.politics.misc\n",
       "4996  [xref, cantaloup, srv, cs, cmu, edu, comp, gra...  talk.politics.misc\n",
       "4997  [newsgroup, comp, graphic, path, cantaloup, sr...  talk.politics.misc\n",
       "4998  [xref, cantaloup, srv, cs, cmu, edu, comp, gra...  talk.politics.misc\n",
       "4999  [path, cantaloup, srv, cs, cmu, edu, da, news,...  talk.politics.misc\n",
       "\n",
       "[5000 rows x 2 columns]"
      ]
     },
     "execution_count": 5,
     "metadata": {},
     "output_type": "execute_result"
    }
   ],
   "source": [
    "data"
   ]
  },
  {
   "cell_type": "code",
   "execution_count": 6,
   "metadata": {
    "id": "1lHs1RwpzWXd"
   },
   "outputs": [],
   "source": [
    "#Splitting of data randomly depending on ratios\n",
    "def spliting_data(data,ratio):\n",
    "    rand_bool = np.random.rand(len(data)) < ratio\n",
    "    train = data[rand_bool]\n",
    "    test = data[~rand_bool]\n",
    "    return train,test"
   ]
  },
  {
   "cell_type": "code",
   "execution_count": 7,
   "metadata": {
    "id": "pRqorBJgzWZI"
   },
   "outputs": [],
   "source": [
    "def reset_index(train_data,test_data):\n",
    "    train = train_data.reset_index(drop=True)\n",
    "    test = test_data.reset_index(drop=True)\n",
    "    train_class_split = Counter(train[1])\n",
    "    print(train_class_split)\n",
    "    return train,test,train_class_split"
   ]
  },
  {
   "cell_type": "code",
   "execution_count": 8,
   "metadata": {
    "id": "Aq0Jk3gPzWbC"
   },
   "outputs": [],
   "source": [
    "#counting number of words in a perticular class\n",
    "def class_words(train_data):\n",
    "    word_dict= {}\n",
    "    for i in range(0,len(train_data)):\n",
    "        try:\n",
    "            word_dict[train_data[1][i]] = word_dict[train_data[1][i]] + train_data[0][i]\n",
    "        except:\n",
    "            word_dict[train_data[1][i]] = train_data[0][i]\n",
    "    return word_dict"
   ]
  },
  {
   "cell_type": "code",
   "execution_count": 9,
   "metadata": {
    "id": "GnJbafDazWcy"
   },
   "outputs": [],
   "source": [
    " #counting number of UNIQUE words in a perticular class\n",
    "def calulate_unique_word(word_dict):\n",
    "    distinct_words = set()\n",
    "    for i in word_dict:\n",
    "        distinct_words = distinct_words | set(word_dict[i])\n",
    "    distinct_words_c = len(distinct_words)\n",
    "    return distinct_words,distinct_words_c"
   ]
  },
  {
   "cell_type": "code",
   "execution_count": 10,
   "metadata": {
    "id": "D2bs_hwxziaZ"
   },
   "outputs": [],
   "source": [
    "#class frequency for each word\n",
    "def calculate_CF(word_dict):\n",
    "    CF = {}\n",
    "\n",
    "    #creating the list for each class\n",
    "    for i in word_dict:\n",
    "        for w in set(word_dict[i]):\n",
    "            CF[w] = []\n",
    "\n",
    "    for i in word_dict:\n",
    "        for w in set(word_dict[i]):\n",
    "            if i == 'comp.graphics':\n",
    "                CF[w].append(i)\n",
    "            elif i == 'rec.sport.hockey':\n",
    "                CF[w].append(i)\n",
    "            elif i == 'sci.med':\n",
    "                CF[w].append(i)\n",
    "            elif i == 'sci.space':\n",
    "                CF[w].append(i)        \n",
    "            else:\n",
    "                CF[w].append(i)\n",
    "    for k , v in CF.items():\n",
    "        CF[k] = len(v)\n",
    "    return CF"
   ]
  },
  {
   "cell_type": "code",
   "execution_count": 11,
   "metadata": {
    "id": "CbIfSm5azick"
   },
   "outputs": [],
   "source": [
    "def class_freq(word,CF):\n",
    "    rand = 0\n",
    "    try:\n",
    "        rand = CF[word]\n",
    "    except:\n",
    "        pass\n",
    "    return rand"
   ]
  },
  {
   "cell_type": "code",
   "execution_count": 12,
   "metadata": {
    "id": "8IEqH_jlzieZ"
   },
   "outputs": [],
   "source": [
    "def calculate_tficf(word_dict,CF):\n",
    "    tf_icf = {}\n",
    "    N=5\n",
    "    for i in word_dict:\n",
    "        dumy_dict={}\n",
    "        count=Counter(word_dict[i])\n",
    "        w_count=len(word_dict[i])\n",
    "        for word in set(word_dict[i]):\n",
    "            term_freq = count[word]/w_count\n",
    "            clas_freq = class_freq(word,CF)\n",
    "            inv_class_freq = np.log((N)/(clas_freq))\n",
    "            dumy_dict[word] = term_freq*inv_class_freq\n",
    "        tf_icf[i] = dumy_dict\n",
    "    return tf_icf"
   ]
  },
  {
   "cell_type": "code",
   "execution_count": 13,
   "metadata": {
    "id": "5Fr6ZCeOzigS"
   },
   "outputs": [],
   "source": [
    "def tficf_k_feature(TF_ICF,feature_values):\n",
    "    featTFICF=[]\n",
    "    k_feature={}\n",
    "    for i in TF_ICF.keys():\n",
    "        c_feature=[]\n",
    "        every_sk = sorted(TF_ICF[i], key=TF_ICF[i].get, reverse=True)\n",
    "        for j in every_sk[0:int(feature_values)]:\n",
    "            featTFICF.append(j)\n",
    "            c_feature.append(j)\n",
    "        k_feature[i] = c_feature\n",
    "    return k_feature,featTFICF"
   ]
  },
  {
   "cell_type": "code",
   "execution_count": 14,
   "metadata": {
    "id": "xJdBBJJTziiQ"
   },
   "outputs": [],
   "source": [
    "def freq_count(classes,featTFICF,k_feature):\n",
    "    class_f = {}\n",
    "    class_c = {}\n",
    "\n",
    "    for i in classes:\n",
    "        counter_kFeature = Counter(k_feature[i])\n",
    "        for j in featTFICF:\n",
    "            class_f[i, j] = counter_kFeature[j]\n",
    "            try:\n",
    "                class_c[i] = class_c[i] + counter_kFeature[j]\n",
    "            except:\n",
    "                class_c[i] = counter_kFeature[j]\n",
    "    return class_f,class_c"
   ]
  },
  {
   "cell_type": "code",
   "execution_count": 15,
   "metadata": {
    "id": "Uv_a1gY1zio0"
   },
   "outputs": [],
   "source": [
    "def frequency(word, label,class_f,class_c):\n",
    "    try:\n",
    "        return class_f[label, word], class_c[label]\n",
    "    except:\n",
    "        return 0, class_c[label]"
   ]
  },
  {
   "cell_type": "code",
   "execution_count": 16,
   "metadata": {
    "id": "uZ-ngpipziq5"
   },
   "outputs": [],
   "source": [
    "#Naive Bayes classifier\n",
    "def NaiveBayes(distinct_words_c,train_class_split,train_data,test_data,cls,class_f,class_c):\n",
    "    true_values = []\n",
    "    pred_values = []\n",
    "    for i in range(test_data.shape[0]):\n",
    "        true_values.append(test_data[1][i])\n",
    "        prob_classesWord = []\n",
    "        for l in cls:\n",
    "            prob_w = 0\n",
    "            for w in test_data[0][i]:\n",
    "                freq, count = frequency(w, l,class_f,class_c)\n",
    "                pp = (freq + 1) / (count + distinct_words_c)\n",
    "                prob_w += np.log(pp)\n",
    "            prob_w += np.log(train_class_split[l] / train_data.shape[0])            \n",
    "            prob_classesWord.append(prob_w)           \n",
    "        pred_values.append(cls[np.argmax(prob_classesWord)])        \n",
    "    return true_values,pred_values"
   ]
  },
  {
   "cell_type": "code",
   "execution_count": 17,
   "metadata": {
    "id": "rjMuFvvMzvCj"
   },
   "outputs": [],
   "source": [
    "def accuracy(predicted, true):\n",
    "    c = len([1 for i in range(len(predicted)) if predicted[i]==true[i]])\n",
    "    return c/len(predicted)"
   ]
  },
  {
   "cell_type": "code",
   "execution_count": 18,
   "metadata": {
    "id": "sMFlstl2zvGx"
   },
   "outputs": [],
   "source": [
    "def confusion_matrix(predicted, true,classes):\n",
    "    confusion = np.zeros((len(classes), len(classes))).astype(int)\n",
    "    for i in range(len(predicted)):\n",
    "        confusion[classes.index(predicted[i])][classes.index(true[i])] += 1\n",
    "    return confusion"
   ]
  },
  {
   "cell_type": "code",
   "execution_count": 19,
   "metadata": {
    "id": "xjKoXTYqzvMy"
   },
   "outputs": [],
   "source": [
    "def heatmap(conf_mat):\n",
    "    sns.heatmap(conf_mat/np.sum(conf_mat), annot=True, fmt='.2%', cmap='Blues')"
   ]
  },
  {
   "cell_type": "code",
   "execution_count": 20,
   "metadata": {
    "id": "l09KpQS6zvO4"
   },
   "outputs": [],
   "source": [
    "def RunnerFunction(data,ratio):\n",
    "    train_data,test_data = spliting_data(data,ratio)\n",
    "    train_data,test_data,train_class_split = reset_index(train_data,test_data)\n",
    "    word_dict = class_words(train_data)\n",
    "    distinct_words,distinct_words_c = calulate_unique_word(word_dict)\n",
    "    CF = calculate_CF(word_dict)\n",
    "    tficf = calculate_tficf(word_dict,CF)\n",
    "    feature_values = [10,20,40,60]\n",
    "    for f_values in feature_values:\n",
    "        k_feature,featTFICF = tficf_k_feature(tficf,f_values)\n",
    "        class_f,class_c = freq_count(classes,featTFICF,k_feature)\n",
    "        true_values,pred_values = NaiveBayes(distinct_words_c,train_class_split,train_data,test_data,classes,class_f,class_c)\n",
    "        acc = accuracy(pred_values,true_values)\n",
    "        print(\"Accuracy at %0.1f and at feature value %d : \" % (ratio,f_values),acc)\n",
    "        conf = confusion_matrix(pred_values,true_values,classes)\n",
    "        print(conf)\n",
    "        features.append(f_values)\n",
    "        pref.append(acc)\n",
    "        train_size.append(ratio)"
   ]
  },
  {
   "cell_type": "code",
   "execution_count": 21,
   "metadata": {
    "colab": {
     "base_uri": "https://localhost:8080/"
    },
    "id": "8YOfxfZ_zvRS",
    "outputId": "9d5a9d76-9cb7-486d-dffa-d8c8faeab25a"
   },
   "outputs": [
    {
     "name": "stdout",
     "output_type": "stream",
     "text": [
      "Counter({'talk.politics.misc': 538, 'rec.sport.hockey': 518, 'comp.graphics': 501, 'sci.med': 488, 'sci.space': 461})\n",
      "Accuracy at 0.5 and at feature value 10 :  0.7794707297514034\n",
      "[[315   1   0   5   0]\n",
      " [170 470   0  36   2]\n",
      " [  0   0 512   7   0]\n",
      " [  0   0   0 187   0]\n",
      " [ 14  11   0 304 460]]\n",
      "Accuracy at 0.5 and at feature value 20 :  0.8448275862068966\n",
      "[[381   4   0   6   0]\n",
      " [102 462   0  77   2]\n",
      " [  0   1 512   4   0]\n",
      " [  0   4   0 293   1]\n",
      " [ 16  11   0 159 459]]\n",
      "Accuracy at 0.5 and at feature value 40 :  0.9125902165196471\n",
      "[[400   6   0   3   3]\n",
      " [ 85 452   0  21   2]\n",
      " [  1   3 510   2   1]\n",
      " [  0  13   2 459   1]\n",
      " [ 13   8   0  54 455]]\n",
      "Accuracy at 0.5 and at feature value 60 :  0.9366479550922213\n",
      "[[431  10   0   5   2]\n",
      " [ 52 449   0  16   2]\n",
      " [  2   1 511   2   1]\n",
      " [  2  15   1 489   1]\n",
      " [ 12   7   0  27 456]]\n",
      "Counter({'rec.sport.hockey': 715, 'sci.med': 705, 'sci.space': 696, 'comp.graphics': 695, 'talk.politics.misc': 685})\n",
      "Accuracy at 0.7 and at feature value 10 :  0.8384308510638298\n",
      "[[190   0   0   3   1]\n",
      " [112 281   0 102   4]\n",
      " [  0   0 295   3   0]\n",
      " [  1   1   0 196  11]\n",
      " [  2   3   0   0 299]]\n",
      "Accuracy at 0.7 and at feature value 20 :  0.8856382978723404\n",
      "[[229   2   0   3   2]\n",
      " [ 71 277   0  51   4]\n",
      " [  2   2 295  23   2]\n",
      " [  1   1   0 227   3]\n",
      " [  2   3   0   0 304]]\n",
      "Accuracy at 0.7 and at feature value 40 :  0.932845744680851\n",
      "[[256   4   0   3   3]\n",
      " [ 45 271   0  18   3]\n",
      " [  1   1 295   7   2]\n",
      " [  0   6   0 275   1]\n",
      " [  3   3   0   1 306]]\n",
      "Accuracy at 0.7 and at feature value 60 :  0.9454787234042553\n",
      "[[272   6   0   4   2]\n",
      " [ 27 264   0  10   3]\n",
      " [  1   1 295   5   1]\n",
      " [  2  11   0 284   2]\n",
      " [  3   3   0   1 307]]\n",
      "Counter({'sci.med': 799, 'talk.politics.misc': 791, 'comp.graphics': 785, 'rec.sport.hockey': 777, 'sci.space': 775})\n",
      "Accuracy at 0.8 and at feature value 10 :  0.7670083876980429\n",
      "[[209 111   0  16   4]\n",
      " [  2 110   0   3   0]\n",
      " [  0   0 201 107   0]\n",
      " [  0   0   0  98   0]\n",
      " [  4   2   0   1 205]]\n",
      "Accuracy at 0.8 and at feature value 20 :  0.8089468779123952\n",
      "[[207  98   0  12   4]\n",
      " [  2 120   0   4   0]\n",
      " [  3   2 201  73   1]\n",
      " [  0   0   0 136   0]\n",
      " [  3   3   0   0 204]]\n",
      "Accuracy at 0.8 and at feature value 40 :  0.8872320596458527\n",
      "[[203  59   0   5   4]\n",
      " [  1 151   0   7   0]\n",
      " [  3   2 201  20   0]\n",
      " [  0   8   0 192   0]\n",
      " [  8   3   0   1 205]]\n",
      "Accuracy at 0.8 and at feature value 60 :  0.9151910531220876\n",
      "[[205  42   0   2   4]\n",
      " [  2 168   0   5   0]\n",
      " [  2   4 201  14   0]\n",
      " [  1   6   0 203   0]\n",
      " [  5   3   0   1 205]]\n"
     ]
    }
   ],
   "source": [
    "features = []\n",
    "pref = []\n",
    "train_size = []\n",
    "ratios = [0.5,0.7,0.8]\n",
    "for r in ratios:\n",
    "    RunnerFunction(data,r)"
   ]
  },
  {
   "cell_type": "code",
   "execution_count": 22,
   "metadata": {
    "colab": {
     "base_uri": "https://localhost:8080/"
    },
    "id": "QwMK4-42zvTR",
    "outputId": "fc9f6a23-6635-40f7-a708-3df9ddb5d213"
   },
   "outputs": [
    {
     "name": "stdout",
     "output_type": "stream",
     "text": [
      "+-------------------------------+----------------------------------------+---------------------+\n",
      "| % OF TRAINING DATA CONSIDERED | FEATURES(TF-ICF BASED) SELECTED/CLASS  |       ACCURACY      |\n",
      "+-------------------------------+----------------------------------------+---------------------+\n",
      "|              50 %             |                   10                   | 77.94707297514034 % |\n",
      "|              50 %             |                   20                   | 84.48275862068965 % |\n",
      "|              50 %             |                   40                   | 91.25902165196472 % |\n",
      "|              50 %             |                   60                   | 93.66479550922213 % |\n",
      "|              70 %             |                   10                   | 83.84308510638297 % |\n",
      "|              70 %             |                   20                   | 88.56382978723404 % |\n",
      "|              70 %             |                   40                   |  93.2845744680851 % |\n",
      "|              70 %             |                   60                   | 94.54787234042553 % |\n",
      "|              80 %             |                   10                   | 76.70083876980429 % |\n",
      "|              80 %             |                   20                   | 80.89468779123952 % |\n",
      "|              80 %             |                   40                   | 88.72320596458528 % |\n",
      "|              80 %             |                   60                   | 91.51910531220877 % |\n",
      "+-------------------------------+----------------------------------------+---------------------+\n"
     ]
    }
   ],
   "source": [
    "res = PrettyTable()\n",
    "res.field_names = [\"% OF TRAINING DATA CONSIDERED\", \"FEATURES(TF-ICF BASED) SELECTED/CLASS \",\"ACCURACY\"]\n",
    "for i in range(len(train_size)):\n",
    "    res.add_row([str(round(train_size[i]*100))+\" %\",str(round(features[i])), str(pref[i]*100)+\" %\"])\n",
    "print(res)"
   ]
  },
  {
   "cell_type": "code",
   "execution_count": 23,
   "metadata": {
    "colab": {
     "base_uri": "https://localhost:8080/",
     "height": 295
    },
    "id": "dP0KG_BazvVZ",
    "outputId": "bb7050d9-811c-4509-ade5-d1c0988d497b"
   },
   "outputs": [
    {
     "data": {
      "image/png": "[encoded data removed]",
      "text/plain": [
       "<Figure size 432x288 with 1 Axes>"
      ]
     },
     "metadata": {
      "needs_background": "light"
     },
     "output_type": "display_data"
    }
   ],
   "source": [
    "plt.plot(features[0:4],pref[0:4])\n",
    "plt.xlabel(\"FEATURES SELECTED FROM EVERY CLASS\")\n",
    "plt.ylabel(\"ACCURACY\")\n",
    "plt.title(\"FEATURE COUNT V/S ACCURACY WITH TRAIN-TEST SPLIT OF 50:50\")\n",
    "plt.show()"
   ]
  },
  {
   "cell_type": "code",
   "execution_count": 24,
   "metadata": {
    "colab": {
     "base_uri": "https://localhost:8080/",
     "height": 295
    },
    "id": "XK_YDuGszvXZ",
    "outputId": "1d360e36-319d-4ebe-b9a2-ae15574cf2aa"
   },
   "outputs": [
    {
     "data": {
      "image/png": "[encoded data removed]",
      "text/plain": [
       "<Figure size 432x288 with 1 Axes>"
      ]
     },
     "metadata": {
      "needs_background": "light"
     },
     "output_type": "display_data"
    }
   ],
   "source": [
    "plt.plot(features[4:8],pref[4:8])\n",
    "plt.xlabel(\"FEATURES SELECTED\")\n",
    "plt.ylabel(\"ACCURACY\")\n",
    "plt.title(\"FEATURE COUNT V/S ACCURACY WITH TRAIN-TEST SPLIT OF 70:30\")\n",
    "plt.show()"
   ]
  },
  {
   "cell_type": "code",
   "execution_count": 25,
   "metadata": {
    "colab": {
     "base_uri": "https://localhost:8080/",
     "height": 295
    },
    "id": "xEq1olFuzvZr",
    "outputId": "c75a7770-a278-4107-8855-be93f56eb3c6"
   },
   "outputs": [
    {
     "data": {
      "image/png": "[encoded data removed]",
      "text/plain": [
       "<Figure size 432x288 with 1 Axes>"
      ]
     },
     "metadata": {
      "needs_background": "light"
     },
     "output_type": "display_data"
    }
   ],
   "source": [
    "plt.plot(features[8:12],pref[8:12])\n",
    "plt.xlabel(\"FEATURES SELECTED\")\n",
    "plt.ylabel(\"ACCURACY\")\n",
    "plt.title(\"FEATURE COUNT V/S ACCURACY WITH TRAIN-TEST SPLIT OF 80:20\")\n",
    "plt.show()"
   ]
  },
  {
   "cell_type": "code",
   "execution_count": 26,
   "metadata": {
    "colab": {
     "base_uri": "https://localhost:8080/",
     "height": 295
    },
    "id": "ThWgUxghz9tT",
    "outputId": "3e084260-9f4c-45e4-b8a9-e8e9c4505a79"
   },
   "outputs": [
    {
     "data": {
      "image/png": "[encoded data removed]",
      "text/plain": [
       "<Figure size 432x288 with 1 Axes>"
      ]
     },
     "metadata": {
      "needs_background": "light"
     },
     "output_type": "display_data"
    }
   ],
   "source": [
    "plt.plot([train_size[3],train_size[7],train_size[11]],[pref[3]*100,pref[7]*100,pref[11]*100])\n",
    "plt.xlabel(\"FRACTION OF TRAINING DATA\")\n",
    "plt.ylabel(\"ACCURACY\")\n",
    "plt.title(\"FRACTION OF DATA CONSIDERED FOR TRAINING VS TEST-ACCURACY\")\n",
    "plt.show()"
   ]
  },
  {
   "cell_type": "code",
   "execution_count": null,
   "metadata": {
    "id": "YWSP4-HAz9vQ"
   },
   "outputs": [],
   "source": []
  },
  {
   "cell_type": "code",
   "execution_count": null,
   "metadata": {
    "id": "cS7zkH6Iz9xc"
   },
   "outputs": [],
   "source": []
  },
  {
   "cell_type": "code",
   "execution_count": null,
   "metadata": {
    "id": "bx5FuQB8z9zU"
   },
   "outputs": [],
   "source": []
  },
  {
   "cell_type": "code",
   "execution_count": null,
   "metadata": {
    "id": "QDQL6P2Xz91V"
   },
   "outputs": [],
   "source": []
  },
  {
   "cell_type": "code",
   "execution_count": null,
   "metadata": {
    "id": "NsQMtMn3z93Q"
   },
   "outputs": [],
   "source": []
  }
 ],
 "metadata": {
  "colab": {
   "name": "Untitled1.ipynb",
   "provenance": []
  },
  "kernelspec": {
   "display_name": "Python 3 (ipykernel)",
   "language": "python",
   "name": "python3"
  },
  "language_info": {
   "codemirror_mode": {
    "name": "ipython",
    "version": 3
   },
   "file_extension": ".py",
   "mimetype": "text/x-python",
   "name": "python",
   "nbconvert_exporter": "python",
   "pygments_lexer": "ipython3",
   "version": "3.9.7"
  }
 },
 "nbformat": 4,
 "nbformat_minor": 1
}
